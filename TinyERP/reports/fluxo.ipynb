{
 "cells": [
  {
   "cell_type": "code",
   "execution_count": 9,
   "metadata": {},
   "outputs": [],
   "source": [
    "import numpy as np\n",
    "import pandas as pd\n",
    "import json, requests\n",
    "from datetime import datetime, timedelta\n",
    "\n",
    "tokens = json.loads(open('./tokens.json').read())\n",
    "hoje = datetime.today()\n",
    "m30 = datetime.today() + timedelta(30)\n"
   ]
  },
  {
   "cell_type": "code",
   "execution_count": 13,
   "metadata": {},
   "outputs": [],
   "source": [
    "from requests import request\n",
    "from time import sleep\n",
    "\n",
    "\n",
    "data = {'token': tokens['bh'],\n",
    "            'formato': 'json',\n",
    "            'data_ini_vencimento': hoje,\n",
    "            'data_fim_vencimento': m30,\n",
    "            'pagina': 1}\n",
    "\n",
    "\n",
    "url = 'https://api.tiny.com.br/api2/contas.pagar.pesquisa.php'\n",
    "while True:\n",
    "    try:\n",
    "        pagar = [{x['conta']['data_vencimento']: -float(x['conta']['valor'])} for x in requests.post(url, data).json()['retorno']['contas']]\n",
    "        sleep(1)\n",
    "    except:\n",
    "        break\n",
    "    data['pagina'] += 1\n",
    "\n",
    "url = 'https://api.tiny.com.br/api2/contas.receber.pesquisa.php'\n",
    "data['pagina'] = 1\n",
    "while True:\n",
    "    try:\n",
    "        receber = [{x['conta']['data_vencimento']: float(x['conta']['valor'])} for x in requests.post(url, data).json()['retorno']['contas']]\n",
    "        sleep(1)\n",
    "    except:\n",
    "        break\n",
    "    data['pagina'] += 1"
   ]
  },
  {
   "cell_type": "code",
   "execution_count": 35,
   "metadata": {},
   "outputs": [
    {
     "data": {
      "text/plain": [
       "01/01/2023       NaN\n",
       "01/02/2023       NaN\n",
       "01/03/2023       NaN\n",
       "01/04/2023       NaN\n",
       "01/05/2023       NaN\n",
       "01/06/2023       NaN\n",
       "01/12/2022       NaN\n",
       "05/01/2023       NaN\n",
       "05/02/2023       NaN\n",
       "05/03/2023       NaN\n",
       "05/04/2023       NaN\n",
       "05/05/2023       NaN\n",
       "05/12/2022       NaN\n",
       "06/02/2023   -8300.0\n",
       "06/03/2023   -8300.0\n",
       "06/04/2023   -8300.0\n",
       "06/05/2023   -8300.0\n",
       "07/01/2023       NaN\n",
       "07/02/2023       NaN\n",
       "07/03/2023       NaN\n",
       "07/04/2023       NaN\n",
       "07/05/2023       NaN\n",
       "07/12/2022       NaN\n",
       "10/01/2023       NaN\n",
       "10/02/2023       NaN\n",
       "10/03/2023       NaN\n",
       "10/04/2023       NaN\n",
       "10/05/2023       NaN\n",
       "10/11/2022       NaN\n",
       "10/12/2022       NaN\n",
       "15/01/2023       NaN\n",
       "15/02/2023       NaN\n",
       "15/03/2023       NaN\n",
       "15/04/2023       NaN\n",
       "15/05/2023       NaN\n",
       "15/11/2022       NaN\n",
       "15/12/2022       NaN\n",
       "20/01/2023       NaN\n",
       "20/02/2023       NaN\n",
       "20/03/2023       NaN\n",
       "20/04/2023       NaN\n",
       "20/05/2023       NaN\n",
       "20/11/2022       NaN\n",
       "20/12/2022       NaN\n",
       "24/07/2022       NaN\n",
       "25/01/2023       NaN\n",
       "25/02/2023       NaN\n",
       "25/03/2023       NaN\n",
       "25/04/2023       NaN\n",
       "25/05/2023       NaN\n",
       "25/11/2022       NaN\n",
       "25/12/2022       NaN\n",
       "26/07/2022       NaN\n",
       "Name: value, dtype: float64"
      ]
     },
     "execution_count": 35,
     "metadata": {},
     "output_type": "execute_result"
    }
   ],
   "source": [
    "import pandas as pd\n",
    "\n",
    "receber_df = pd.DataFrame(receber).T.fillna(0)\n",
    "receber_df['value'] = receber_df[0:6].sum(axis=1)\n",
    "receber_df\n",
    "\n",
    "pagar_df = pd.DataFrame(pagar).T.fillna(0)\n",
    "pagar_df['value'] = pagar_df[0:].sum(axis=1)\n",
    "pagar_df\n",
    "\n",
    "pd.to_numeric(receber_df['value']) + pd.to_numeric(pagar_df['value'])\n",
    "pd.to_numeric(receber_df['value']) + pd.to_numeric(pagar_df['value'])"
   ]
  }
 ],
 "metadata": {
  "kernelspec": {
   "display_name": "Python 3.8.8 ('base')",
   "language": "python",
   "name": "python3"
  },
  "language_info": {
   "codemirror_mode": {
    "name": "ipython",
    "version": 3
   },
   "file_extension": ".py",
   "mimetype": "text/x-python",
   "name": "python",
   "nbconvert_exporter": "python",
   "pygments_lexer": "ipython3",
   "version": "3.8.8"
  },
  "orig_nbformat": 4,
  "vscode": {
   "interpreter": {
    "hash": "ad2bdc8ecc057115af97d19610ffacc2b4e99fae6737bb82f5d7fb13d2f2c186"
   }
  }
 },
 "nbformat": 4,
 "nbformat_minor": 2
}
