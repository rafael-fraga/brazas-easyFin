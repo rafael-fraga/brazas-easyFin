{
 "cells": [
  {
   "cell_type": "code",
   "execution_count": 1,
   "metadata": {},
   "outputs": [],
   "source": [
    "import pandas as pd\n",
    "import warnings, os\n",
    "\n",
    "warnings.simplefilter('ignore')\n",
    "\n",
    "from src.inter import inter_processing\n",
    "from src.safra import safra_processing\n",
    "from src.pagarme import pagarme_processing\n",
    "\n",
    "for filename in os.listdir('./output/'):\n",
    "    os.remove('./output/'+filename)"
   ]
  },
  {
   "cell_type": "code",
   "execution_count": 2,
   "metadata": {},
   "outputs": [],
   "source": [
    "dia = '29/06/2022'"
   ]
  },
  {
   "cell_type": "code",
   "execution_count": 4,
   "metadata": {},
   "outputs": [
    {
     "name": "stdout",
     "output_type": "stream",
     "text": [
      "data,categoria,historico,tipo,valor,id,contato,cnpj,marcadores,conta_de_destino,no_documento\n",
      "29/06/2022,,   Daniel Naves,D,\"100,00\",,,,auto,Banco Inter,\n",
      "29/06/2022,, Mp Restaurante E Eventos Eireli,D,\"515,48\",,,,auto,Banco Inter,\n",
      "29/06/2022,,Pagamento De Titulo Pagamento,D,\"154,08\",,,,auto,Banco Inter,\n",
      "29/06/2022,, Matheus De Oliveira Medrado,C,\"1.000,00\",,,,auto,Banco Inter,\n",
      "29/06/2022,, TransaÃ§Ã£o 1326279239 - 694224439 1 CartÃ£o de CrÃ©dito,C,\"440,8\",,,,auto,PAGAR.ME,\n",
      "29/06/2022,,Taxas,D,\"14,77\",,,,auto,PAGAR.ME,\n",
      "29/06/2022,,   Daniel Naves,D,\"100,00\",,,,auto,Banco Inter,\n",
      "29/06/2022,, Mp Restaurante E Eventos Eireli,D,\"515,48\",,,,auto,Banco Inter,\n",
      "29/06/2022,,Pagamento De Titulo Pagamento,D,\"154,08\",,,,auto,Banco Inter,\n",
      "29/06/2022,, Matheus De Oliveira Medrado,C,\"1.000,00\",,,,auto,Banco Inter,\n",
      "29/06/2022,, TransaÃ§Ã£o 1326279239 - 694224439 1 CartÃ£o de CrÃ©dito,C,\"440,8\",,,,auto,PAGAR.ME,\n",
      "29/06/2022,,Taxas,D,\"14,77\",,,,auto,PAGAR.ME,\n",
      "\n",
      "data,categoria,historico,tipo,valor,id,contato,cnpj,marcadores,conta_de_destino,no_documento\n",
      "29/06/2022,,Pagamento De Convenio Telecomunicao Oi,D,\"135,23\",,,,auto,Banco Inter,\n",
      "29/06/2022,,Pagamento De Titulo Fornecedor Lder,D,\"299,02\",,,,auto,Banco Inter,\n",
      "29/06/2022,, Matheus Tome,C,\"399,00\",,,,auto,Banco Inter,\n",
      "29/06/2022,,Pagamento De Convenio Telecomunicao Oi,D,\"135,23\",,,,auto,Banco Inter,\n",
      "29/06/2022,,Pagamento De Titulo Fornecedor Lder,D,\"299,02\",,,,auto,Banco Inter,\n",
      "29/06/2022,, Matheus Tome,C,\"399,00\",,,,auto,Banco Inter,\n",
      "\n",
      "data,categoria,historico,tipo,valor,id,contato,cnpj,marcadores,conta_de_destino,no_documento\n",
      "29/06/2022,, Mauricio Zuquim Macedo,C,\"678,00\",,,,auto,Banco Inter,\n",
      "29/06/2022,, Marcella Estanislau Macedo,D,\"678,00\",,,,auto,Banco Inter,\n",
      "29/06/2022,,Transferencia A Credito   Marcella Estanislau Macedo,C,\"1.814,80\",,,,auto,Banco Inter,\n",
      "29/06/2022,,   Resgate Previo Cdb Fluxo Caixa,C,\"1000,04\",,,,auto,Banco Safra,\n",
      "29/06/2022,,Pagamento De Boleto,D,\"910,46\",,,,auto,Banco Safra,\n",
      "29/06/2022,, Mauricio Zuquim Macedo,C,\"678,00\",,,,auto,Banco Inter,\n",
      "29/06/2022,, Marcella Estanislau Macedo,D,\"678,00\",,,,auto,Banco Inter,\n",
      "29/06/2022,,Transferencia A Credito   Marcella Estanislau Macedo,C,\"1.814,80\",,,,auto,Banco Inter,\n",
      "29/06/2022,,   Resgate Previo Cdb Fluxo Caixa,C,\"1000,04\",,,,auto,Banco Safra,\n",
      "29/06/2022,,Pagamento De Boleto,D,\"910,46\",,,,auto,Banco Safra,\n",
      "\n"
     ]
    }
   ],
   "source": [
    "extratos = dict()\n",
    "for bu in ['bh', 'rj', 'ls']:\n",
    "\n",
    "    try:\n",
    "        inter = inter_processing(bu, dia),\n",
    "    except:\n",
    "        inter = None\n",
    "    try:\n",
    "        safra = safra_processing(bu, dia),\n",
    "    except:\n",
    "        safra = None\n",
    "    try:\n",
    "        pagarme = pagarme_processing(bu, dia),\n",
    "    except:\n",
    "        pagarme = None\n",
    "\n",
    "\n",
    "    extratos[bu] = {\n",
    "            'inter': inter,\n",
    "            'pagarme': pagarme,\n",
    "            'safra': safra\n",
    "    }\n",
    "\n",
    "\n",
    "for bu in ['bh', 'rj', 'ls']:\n",
    "    text = 'data,categoria,historico,tipo,valor,id,contato,cnpj,marcadores,conta_de_destino,no_documento\\n'\n",
    "    path = './output/'\n",
    "    \n",
    "    for filename in os.listdir(path):\n",
    "        if bu in filename:\n",
    "            text += open(path+filename, 'r').read()[93:]\n",
    "    print(text)\n",
    "    tiny_file = open(path+'tiny-'+ bu +'.csv', 'w').write(text)"
   ]
  },
  {
   "cell_type": "code",
   "execution_count": null,
   "metadata": {},
   "outputs": [],
   "source": []
  }
 ],
 "metadata": {
  "kernelspec": {
   "display_name": "Python 3.8.8 ('base')",
   "language": "python",
   "name": "python3"
  },
  "language_info": {
   "codemirror_mode": {
    "name": "ipython",
    "version": 3
   },
   "file_extension": ".py",
   "mimetype": "text/x-python",
   "name": "python",
   "nbconvert_exporter": "python",
   "pygments_lexer": "ipython3",
   "version": "3.8.8"
  },
  "orig_nbformat": 4,
  "vscode": {
   "interpreter": {
    "hash": "ad2bdc8ecc057115af97d19610ffacc2b4e99fae6737bb82f5d7fb13d2f2c186"
   }
  }
 },
 "nbformat": 4,
 "nbformat_minor": 2
}
